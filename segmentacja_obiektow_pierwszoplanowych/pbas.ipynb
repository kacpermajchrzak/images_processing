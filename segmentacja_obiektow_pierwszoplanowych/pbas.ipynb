{
 "cells": [
  {
   "cell_type": "code",
   "execution_count": 4,
   "metadata": {},
   "outputs": [],
   "source": [
    "import cv2\n",
    "import numpy as np\n",
    "from matplotlib import pyplot as plt"
   ]
  },
  {
   "cell_type": "code",
   "execution_count": 5,
   "metadata": {},
   "outputs": [],
   "source": [
    "PATH = 'pedestrian'\n",
    "NEIGHBORS = 8"
   ]
  },
  {
   "cell_type": "code",
   "execution_count": 6,
   "metadata": {},
   "outputs": [],
   "source": [
    "f = open(f'{PATH}/temporalROI.txt','r') \n",
    "line = f.readline()\n",
    "roi_start , roi_end = line.split() \n",
    "roi_start = int(roi_start) \n",
    "roi_end = int(roi_end)\n",
    "\n",
    "I_start = cv2.imread(f'{PATH}/input/in%06d.jpg' % roi_start)\n",
    "HEIGHT, WIDTH, _ = I_start.shape"
   ]
  },
  {
   "cell_type": "code",
   "execution_count": 7,
   "metadata": {},
   "outputs": [],
   "source": [
    "def gray_and_type(I):  # noqa: E741\n",
    "    I = cv2.cvtColor(I, cv2.COLOR_BGR2GRAY)  # noqa: E741\n",
    "    I = I.astype('uint8')  # noqa: E741\n",
    "    return I\n",
    "\n",
    "def calculate_metrics(M, ref_mask, TP, TN, FP, FN):\n",
    "    TP_M = np.logical_and((M==255), (ref_mask==255))\n",
    "    TP = TP + np.sum(TP_M)\n",
    "\n",
    "    TN_M = np.logical_and((M==0), (ref_mask==255))\n",
    "    TN = TN + np.sum(TN_M)\n",
    "\n",
    "    FP_M = np.logical_and((M==255), (ref_mask==0))\n",
    "    FP = FP + np.sum(FP_M)\n",
    "\n",
    "    FN_M = np.logical_and((M==0), (ref_mask==255))\n",
    "    FN = FN + np.sum(FN_M)\n",
    "    return TP, TN, FP, FN"
   ]
  },
  {
   "cell_type": "code",
   "execution_count": 8,
   "metadata": {},
   "outputs": [],
   "source": [
    "# Parameters\n",
    "R = 20  # initial radius tolerance\n",
    "N = 60  # number of background samples\n",
    "T_decay = 0.5  # threshold for learning rate update\n",
    "T_incr = 1  # value to increase the detection threshold\n",
    "T_decr = 0.1  # value to decrease the detection threshold\n",
    "T_lower = 2  # minimum detection threshold\n",
    "T_upper = 200  # maximum detection threshold\n",
    "bg_min = 2  # minimum number of matches to consider background\n",
    "R_change = 0.05  # rate of change for R\n",
    "R_lower = 18  # minimum radius tolerance\n",
    "R_scale = 5  # scaling factor for radius\n",
    "NEIGHBORS = 1  # number of neighbors to update\n",
    "\n",
    "def faster_pbas(img, samples=None, param=None):\n",
    "    HEIGHT, WIDTH = img.shape\n",
    "\n",
    "    if samples is None or param is None:\n",
    "        samples, param = initialize_pbas_background_model_faster(img, N)\n",
    "\n",
    "    seg_map = np.zeros((HEIGHT, WIDTH), dtype=np.uint8)\n",
    "    background = 0\n",
    "    foreground = 255\n",
    "\n",
    "    dists = np.abs(samples - img[:, :, np.newaxis])\n",
    "    min_dists = np.min(dists, axis=-1)\n",
    "    close_samples = dists < param[:, :, 0, np.newaxis]\n",
    "    counts = np.sum(close_samples, axis=-1)\n",
    "\n",
    "    seg_map[counts < bg_min] = foreground\n",
    "    seg_map[counts >= bg_min] = background\n",
    "\n",
    "    # Update background samples\n",
    "    rand = np.random.randint(0, N, size=(HEIGHT, WIDTH))\n",
    "    to_update = (rand == 0)\n",
    "    rand_sample = np.random.randint(0, N, size=(HEIGHT, WIDTH))\n",
    "    samples[to_update, rand_sample[to_update]] = img[to_update]\n",
    "\n",
    "    # Update samples in the neighborhood\n",
    "    xNg = (np.random.randint(-NEIGHBORS, NEIGHBORS + 1, size=(HEIGHT, WIDTH)) + np.arange(WIDTH))\n",
    "    xNg = np.clip(xNg, 0, WIDTH - 1)\n",
    "    yNg = (np.random.randint(-NEIGHBORS, NEIGHBORS + 1, size=(HEIGHT, WIDTH)) + np.arange(HEIGHT)[:, np.newaxis])\n",
    "    yNg = np.clip(yNg, 0, HEIGHT - 1)\n",
    "    rand_sample = np.random.randint(0, N, size=(HEIGHT, WIDTH))\n",
    "    samples[yNg, xNg, rand_sample] = img\n",
    "\n",
    "    # Update adaptive parameter (threshold T and radius R)\n",
    "    param[:, :, 1] = np.where(min_dists < param[:, :, 0],\n",
    "                              np.minimum(param[:, :, 1] + T_incr, T_upper),\n",
    "                              np.maximum(param[:, :, 1] - T_decr, T_lower))\n",
    "\n",
    "    param[:, :, 0] = np.where(param[:, :, 0] > min_dists * R_scale,\n",
    "                              param[:, :, 0] * (1 - R_change),\n",
    "                              param[:, :, 0] * (1 + R_change))\n",
    "\n",
    "    return seg_map, samples, param\n",
    "\n",
    "def initialize_pbas_background_model_faster(I_gray, N=N):\n",
    "    height, width = I_gray.shape\n",
    "    samples = np.zeros((height, width, N), dtype=np.uint8)\n",
    "    param = np.zeros((height, width, 2), dtype=np.float32)\n",
    "    param[:, :, 0] = R  # Initial detection threshold\n",
    "    param[:, :, 1] = 1.0 / T_decay  # Initial learning rate\n",
    "\n",
    "    for n in range(N):\n",
    "        rand_y = np.clip(np.random.randint(-NEIGHBORS, NEIGHBORS + 1, size=(height, width)) + np.arange(height)[:, np.newaxis], 0, height - 1)\n",
    "        rand_x = np.clip(np.random.randint(-NEIGHBORS, NEIGHBORS + 1, size=(height, width)) + np.arange(width), 0, width - 1)\n",
    "        samples[:, :, n] = I_gray[rand_y, rand_x]\n",
    "\n",
    "    return samples, param\n"
   ]
  },
  {
   "cell_type": "code",
   "execution_count": 9,
   "metadata": {},
   "outputs": [
    {
     "name": "stdout",
     "output_type": "stream",
     "text": [
      "PBAS precision:  0.060790659185092494 Recall:  0.9527831357268708 F1:  0.11428929037437627\n"
     ]
    }
   ],
   "source": [
    "I_start = cv2.imread(f'{PATH}/input/in%06d.jpg' % roi_start, cv2.IMREAD_GRAYSCALE)\n",
    "samples = None\n",
    "param = None\n",
    "TP, TN, FP, FN = 0, 0, 0, 0\n",
    "\n",
    "for i in range(roi_start+1, roi_end, 1):\n",
    "    img = cv2.imread(f'{PATH}/input/in%06d.jpg' % i)\n",
    "    IG = gray_and_type(img)\n",
    "\n",
    "    ref_mask = cv2.imread(f'{PATH}/groundtruth/gt%06d.png' % i, cv2.IMREAD_GRAYSCALE)\n",
    "\n",
    "    BG, samples, param = faster_pbas(IG, samples, param)\n",
    "\n",
    "\n",
    "    TP, TN, FP, FN = calculate_metrics(BG, ref_mask, TP, TN, FP, FN)\n",
    "\n",
    "    cv2.imshow('original', img)\n",
    "    cv2.imshow('operation', samples[:,:,0])\n",
    "    cv2.imshow('PBAS', BG)\n",
    "    cv2.waitKey(3)\n",
    "\n",
    "\n",
    "\n",
    "P = TP / (TP + FP)\n",
    "R = TP / (TP + FN)\n",
    "F1 = 2 * P * R / (P + R)\n",
    "print('PBAS precision: ', P, 'Recall: ', R, 'F1: ', F1)"
   ]
  }
 ],
 "metadata": {
  "kernelspec": {
   "display_name": "obrazy",
   "language": "python",
   "name": "python3"
  },
  "language_info": {
   "codemirror_mode": {
    "name": "ipython",
    "version": 3
   },
   "file_extension": ".py",
   "mimetype": "text/x-python",
   "name": "python",
   "nbconvert_exporter": "python",
   "pygments_lexer": "ipython3",
   "version": "3.13.2"
  }
 },
 "nbformat": 4,
 "nbformat_minor": 2
}
