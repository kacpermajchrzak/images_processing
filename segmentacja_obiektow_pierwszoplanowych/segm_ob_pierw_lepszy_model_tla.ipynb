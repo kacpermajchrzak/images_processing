{
 "cells": [
  {
   "cell_type": "code",
   "execution_count": 1,
   "metadata": {},
   "outputs": [],
   "source": [
    "import cv2\n",
    "import numpy as np\n",
    "from scipy import stats"
   ]
  },
  {
   "cell_type": "code",
   "execution_count": 2,
   "metadata": {},
   "outputs": [],
   "source": [
    "PATH = 'pedestrian'\n",
    "N = 60\n",
    "BUFOR_SIZE = 30"
   ]
  },
  {
   "cell_type": "code",
   "execution_count": 3,
   "metadata": {},
   "outputs": [],
   "source": [
    "f = open(f'{PATH}/temporalROI.txt','r') \n",
    "line = f.readline()\n",
    "roi_start , roi_end = line.split() \n",
    "roi_start = int(roi_start) \n",
    "roi_end = int(roi_end)\n",
    "\n",
    "I_start = cv2.imread(f'{PATH}/input/in%06d.jpg' % roi_start)\n",
    "HEIGHT, WIDTH, _ = I_start.shape"
   ]
  },
  {
   "cell_type": "code",
   "execution_count": 4,
   "metadata": {},
   "outputs": [],
   "source": [
    "def gray_and_type(I):  # noqa: E741\n",
    "    I = cv2.cvtColor(I, cv2.COLOR_BGR2GRAY)  # noqa: E741\n",
    "    I = I.astype('uint8')  # noqa: E741\n",
    "    return I\n",
    "\n",
    "def binarization(I, threshold=15):  # noqa: E741\n",
    "    (_, thresh) = cv2.threshold(I, threshold,255,cv2.THRESH_BINARY)\n",
    "    return thresh\n",
    "\n",
    "def morphological_operations(B, kernel_size=3, blur_size=3, erode_iter=1, dilate_iter=2):\n",
    "    kernel = np.ones((kernel_size, kernel_size),np.uint8)\n",
    "    M = cv2.medianBlur(B, blur_size) \n",
    "    M = cv2.erode(M, kernel, iterations=erode_iter)\n",
    "    M = cv2.dilate(M, kernel, iterations=dilate_iter)\n",
    "    return M\n",
    "\n",
    "def calculate_metrics(M, ref_mask, TP, TN, FP, FN):\n",
    "    TP_M = np.logical_and((M==255), (ref_mask==255))\n",
    "    TP = TP + np.sum(TP_M)\n",
    "\n",
    "    TN_M = np.logical_and((M==0), (ref_mask==255))\n",
    "    TN = TN + np.sum(TN_M)\n",
    "\n",
    "    FP_M = np.logical_and((M==255), (ref_mask==0))\n",
    "    FP = FP + np.sum(FP_M)\n",
    "\n",
    "    FN_M = np.logical_and((M==0), (ref_mask==255))\n",
    "    FN = FN + np.sum(FN_M)\n",
    "    return TP, TN, FP, FN"
   ]
  },
  {
   "cell_type": "code",
   "execution_count": 5,
   "metadata": {},
   "outputs": [
    {
     "name": "stderr",
     "output_type": "stream",
     "text": [
      "/var/folders/z8/z_bh56_j7cxf4jpbcjf1hbmh0000gn/T/ipykernel_21718/4177547124.py:10: FutureWarning: Unlike other reduction functions (e.g. `skew`, `kurtosis`), the default behavior of `mode` typically preserves the axis it acts along. In SciPy 1.11.0, this behavior will change: the default value of `keepdims` will become False, the `axis` over which the statistic is taken will be eliminated, and the value None will no longer be accepted. Set `keepdims` to True or False to avoid this warning.\n",
      "  BG = stats.mode(buffer, axis=0).mode[0]\n"
     ]
    },
    {
     "name": "stdout",
     "output_type": "stream",
     "text": [
      "median precision:  0.932879822472304 Recall:  0.9756745798688851 F1:  0.9537974162458406\n"
     ]
    }
   ],
   "source": [
    "TP, TN, FP, FN = 0, 0, 0, 0\n",
    "\n",
    "buffer = np.zeros((BUFOR_SIZE, HEIGHT, WIDTH), dtype=np.uint8)\n",
    "\n",
    "for index, i in enumerate(range(roi_start, roi_start + BUFOR_SIZE)):\n",
    "    img = cv2.imread(f'{PATH}/input/in%06d.jpg' % i, cv2.IMREAD_GRAYSCALE)\n",
    "    buffer[index] = img\n",
    "\n",
    "\n",
    "BG = stats.mode(buffer, axis=0).mode[0]\n",
    "\n",
    "\n",
    "\n",
    "for i in range(roi_start, roi_end, 1):\n",
    "    img = cv2.imread(f'{PATH}/input/in%06d.jpg' % i)\n",
    "    IG = gray_and_type(img)\n",
    "\n",
    "    I_diff = cv2.absdiff(IG, BG).astype('uint8')\n",
    "\n",
    "    B = binarization(I_diff, threshold=20)\n",
    "    M = morphological_operations(B)\n",
    "\n",
    "    ref_mask = cv2.imread(f'{PATH}/groundtruth/gt%06d.png' % i, cv2.IMREAD_GRAYSCALE)\n",
    "\n",
    "    BG = np.where(np.logical_and(IG > BG, M==0), BG + 1, BG)\n",
    "    BG = np.where(np.logical_and(IG < BG, M==0), BG - 1, BG)\n",
    "\n",
    "\n",
    "    TP, TN, FP, FN = calculate_metrics(M, ref_mask, TP, TN, FP, FN)\n",
    "\n",
    "    cv2.imshow('original', img)\n",
    "    cv2.imshow('operation', M)\n",
    "    cv2.waitKey(3)\n",
    "\n",
    "\n",
    "\n",
    "P = TP / (TP + FP)\n",
    "R = TP / (TP + FN)\n",
    "F1 = 2 * P * R / (P + R)\n",
    "print(f'{np.median.__name__} precision: ', P, 'Recall: ', R, 'F1: ', F1)"
   ]
  }
 ],
 "metadata": {
  "kernelspec": {
   "display_name": "de",
   "language": "python",
   "name": "python3"
  },
  "language_info": {
   "codemirror_mode": {
    "name": "ipython",
    "version": 3
   },
   "file_extension": ".py",
   "mimetype": "text/x-python",
   "name": "python",
   "nbconvert_exporter": "python",
   "pygments_lexer": "ipython3",
   "version": "3.10.6"
  }
 },
 "nbformat": 4,
 "nbformat_minor": 2
}
