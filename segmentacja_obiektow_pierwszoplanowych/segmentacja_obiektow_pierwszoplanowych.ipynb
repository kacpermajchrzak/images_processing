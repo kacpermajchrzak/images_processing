{
 "cells": [
  {
   "cell_type": "code",
   "execution_count": 1,
   "metadata": {},
   "outputs": [],
   "source": [
    "import cv2\n",
    "import numpy as np"
   ]
  },
  {
   "cell_type": "code",
   "execution_count": 2,
   "metadata": {},
   "outputs": [],
   "source": [
    "PATH = 'pedestrian'\n",
    "N = 60\n",
    "BUFOR_SIZE = 30"
   ]
  },
  {
   "cell_type": "code",
   "execution_count": 3,
   "metadata": {},
   "outputs": [],
   "source": [
    "f = open(f'{PATH}/temporalROI.txt','r') \n",
    "line = f.readline()\n",
    "roi_start , roi_end = line.split() \n",
    "roi_start = int(roi_start) \n",
    "roi_end = int(roi_end)\n",
    "\n",
    "I_start = cv2.imread(f'{PATH}/input/in%06d.jpg' % roi_start)\n",
    "HEIGHT, WIDTH, _ = I_start.shape"
   ]
  },
  {
   "cell_type": "code",
   "execution_count": 4,
   "metadata": {},
   "outputs": [],
   "source": [
    "def gray_and_type(I):  # noqa: E741\n",
    "    I = cv2.cvtColor(I, cv2.COLOR_BGR2GRAY)  # noqa: E741\n",
    "    I = I.astype('uint8')  # noqa: E741\n",
    "    return I"
   ]
  },
  {
   "cell_type": "code",
   "execution_count": 5,
   "metadata": {},
   "outputs": [],
   "source": [
    "def binarization(I, threshold=15):  # noqa: E741\n",
    "    (_, thresh) = cv2.threshold(I, threshold,255,cv2.THRESH_BINARY)\n",
    "    return thresh"
   ]
  },
  {
   "cell_type": "code",
   "execution_count": 6,
   "metadata": {},
   "outputs": [],
   "source": [
    "def morphological_operations(B, kernel_size=3, blur_size=3, erode_iter=1, dilate_iter=2):\n",
    "    kernel = np.ones((kernel_size, kernel_size),np.uint8)\n",
    "    M = cv2.medianBlur(B, blur_size) \n",
    "    M = cv2.erode(M, kernel, iterations=erode_iter)\n",
    "    M = cv2.dilate(M, kernel, iterations=dilate_iter)\n",
    "    return M"
   ]
  },
  {
   "cell_type": "code",
   "execution_count": 7,
   "metadata": {},
   "outputs": [],
   "source": [
    "def calculate_metrics(M, ref_mask, TP, TN, FP, FN):\n",
    "    TP_M = np.logical_and((M==255), (ref_mask==255))\n",
    "    TP = TP + np.sum(TP_M)\n",
    "\n",
    "    TN_M = np.logical_and((M==0), (ref_mask==255))\n",
    "    TN = TN + np.sum(TN_M)\n",
    "\n",
    "    FP_M = np.logical_and((M==255), (ref_mask==0))\n",
    "    FP = FP + np.sum(FP_M)\n",
    "\n",
    "    FN_M = np.logical_and((M==0), (ref_mask==255))\n",
    "    FN = FN + np.sum(FN_M)\n",
    "    return TP, TN, FP, FN"
   ]
  },
  {
   "cell_type": "markdown",
   "metadata": {},
   "source": [
    "### Metody oparte o bufor próbek"
   ]
  },
  {
   "cell_type": "code",
   "execution_count": 10,
   "metadata": {},
   "outputs": [
    {
     "name": "stdout",
     "output_type": "stream",
     "text": [
      "(240, 360)\n",
      "[[2 2 2 ... 3 3 3]\n",
      " [2 2 2 ... 3 3 3]\n",
      " [2 2 2 ... 4 4 4]\n",
      " ...\n",
      " [2 2 2 ... 3 3 3]\n",
      " [2 2 2 ... 3 3 3]\n",
      " [2 2 2 ... 3 3 3]]\n"
     ]
    }
   ],
   "source": [
    "for operation in [np.mean, np.median]:\n",
    "    TP, TN, FP, FN, iN = 0, 0, 0, 0, 0\n",
    "    BUF = np.zeros((HEIGHT, WIDTH, N), dtype=np.uint8)\n",
    "\n",
    "    for i in range(roi_start, roi_end, 1):\n",
    "        img = cv2.imread(f'{PATH}/input/in%06d.jpg' % i)\n",
    "        IG = gray_and_type(img)\n",
    "        BUF[:,:,iN] = IG\n",
    "        iN = (iN + 1) % N\n",
    "        I_operation = operation(BUF, axis=2).astype('uint8')\n",
    "\n",
    "        I_diff = cv2.absdiff(IG, I_operation).astype('uint8')\n",
    "\n",
    "        B = binarization(I_diff, threshold=22)\n",
    "        M = morphological_operations(B)\n",
    "\n",
    "        ref_mask = cv2.imread(f'{PATH}/groundtruth/gt%06d.png' % i, cv2.IMREAD_GRAYSCALE)\n",
    "\n",
    "\n",
    "        TP, TN, FP, FN = calculate_metrics(M, ref_mask, TP, TN, FP, FN)\n",
    "    \n",
    "        # cv2.imshow('operation', M)\n",
    "        # cv2.waitKey(3)\n",
    "    P = TP / (TP + FP)\n",
    "    R = TP / (TP + FN)\n",
    "    F1 = 2 * P * R / (P + R)\n",
    "    print(f'{operation.__name__} precision: ', P, 'Recall: ', R, 'F1: ', F1)"
   ]
  },
  {
   "cell_type": "markdown",
   "metadata": {},
   "source": [
    "### Aproksymacja średniej i mediany (tzw. sigma-delta)"
   ]
  },
  {
   "cell_type": "code",
   "execution_count": 9,
   "metadata": {},
   "outputs": [
    {
     "name": "stdout",
     "output_type": "stream",
     "text": [
      "mean precision:  0.8893925533698789 Recall:  0.972451860442237 F1:  0.9290695149087672\n"
     ]
    }
   ],
   "source": [
    "TP, TN, FP, FN = 0, 0, 0, 0\n",
    "\n",
    "BG = cv2.imread(f'{PATH}/input/in%06d.jpg' % roi_start, cv2.IMREAD_GRAYSCALE).astype('float64')\n",
    "alfa = 0.01\n",
    "\n",
    "for i in range(roi_start + 1, roi_end, 1):\n",
    "    img = cv2.imread(f'{PATH}/input/in%06d.jpg' % i)\n",
    "    IG = cv2.cvtColor(img, cv2.COLOR_BGR2GRAY).astype('float64')\n",
    "\n",
    "    BG = IG * alfa + ( 1 - alfa ) * BG\n",
    "\n",
    "    I_diff = cv2.absdiff(IG, BG).astype('uint8')\n",
    "\n",
    "    B = binarization(I_diff, threshold=20)\n",
    "    M = morphological_operations(B)\n",
    "\n",
    "    ref_mask = cv2.imread(f'{PATH}/groundtruth/gt%06d.png' % i, cv2.IMREAD_GRAYSCALE)\n",
    "\n",
    "\n",
    "    TP, TN, FP, FN = calculate_metrics(M, ref_mask, TP, TN, FP, FN)\n",
    "\n",
    "    # cv2.imshow('operation', M)\n",
    "    # cv2.waitKey(3)\n",
    "\n",
    "P = TP / (TP + FP)\n",
    "R = TP / (TP + FN)\n",
    "F1 = 2 * P * R / (P + R)\n",
    "print(f'{np.mean.__name__} precision: ', P, 'Recall: ', R, 'F1: ', F1)"
   ]
  },
  {
   "cell_type": "code",
   "execution_count": 10,
   "metadata": {},
   "outputs": [
    {
     "name": "stdout",
     "output_type": "stream",
     "text": [
      "median precision:  0.9436593811960415 Recall:  0.9712280618070482 F1:  0.9572452680223577\n"
     ]
    }
   ],
   "source": [
    "TP, TN, FP, FN = 0, 0, 0, 0\n",
    "BG = cv2.imread(f'{PATH}/input/in%06d.jpg' % roi_start, cv2.IMREAD_GRAYSCALE)\n",
    "alfa = 0.01\n",
    "\n",
    "for i in range(roi_start + 1, roi_end, 1):\n",
    "    img = cv2.imread(f'{PATH}/input/in%06d.jpg' % i)\n",
    "    IG = gray_and_type(img)\n",
    "\n",
    "    BG = np.where(IG > BG, BG + 1, BG)\n",
    "    BG = np.where(IG < BG, BG - 1, BG)\n",
    "\n",
    "\n",
    "    I_diff = cv2.absdiff(IG, BG).astype('uint8')\n",
    "\n",
    "    B = binarization(I_diff, threshold=20)\n",
    "    M = morphological_operations(B)\n",
    "\n",
    "    ref_mask = cv2.imread(f'{PATH}/groundtruth/gt%06d.png' % i, cv2.IMREAD_GRAYSCALE)\n",
    "\n",
    "\n",
    "    TP, TN, FP, FN = calculate_metrics(M, ref_mask, TP, TN, FP, FN)\n",
    "\n",
    "    # cv2.imshow('operation', I_diff)\n",
    "    # cv2.waitKey(3)\n",
    "\n",
    "P = TP / (TP + FP)\n",
    "R = TP / (TP + FN)\n",
    "F1 = 2 * P * R / (P + R)\n",
    "print(f'{np.median.__name__} precision: ', P, 'Recall: ', R, 'F1: ', F1)"
   ]
  },
  {
   "cell_type": "markdown",
   "metadata": {},
   "source": [
    "### Polityka aktualizacji"
   ]
  },
  {
   "cell_type": "code",
   "execution_count": 11,
   "metadata": {},
   "outputs": [
    {
     "name": "stdout",
     "output_type": "stream",
     "text": [
      "median precision:  0.9328398720515213 Recall:  0.9759220227110792 F1:  0.953894749571467\n"
     ]
    }
   ],
   "source": [
    "TP, TN, FP, FN = 0, 0, 0, 0\n",
    "BG = cv2.imread(f'{PATH}/input/in%06d.jpg' % roi_start, cv2.IMREAD_GRAYSCALE)\n",
    "alfa = 0.01\n",
    "\n",
    "for i in range(roi_start + 1, roi_end, 1):\n",
    "    img = cv2.imread(f'{PATH}/input/in%06d.jpg' % i)\n",
    "    IG = gray_and_type(img)\n",
    "\n",
    "    I_diff = cv2.absdiff(IG, BG).astype('uint8')\n",
    "\n",
    "    B = binarization(I_diff, threshold=20)\n",
    "    M = morphological_operations(B)\n",
    "\n",
    "    ref_mask = cv2.imread(f'{PATH}/groundtruth/gt%06d.png' % i, cv2.IMREAD_GRAYSCALE)\n",
    "\n",
    "    BG = np.where(np.logical_and(IG > BG, M==0), BG + 1, BG)\n",
    "    BG = np.where(np.logical_and(IG < BG, M==0), BG - 1, BG)\n",
    "\n",
    "\n",
    "    TP, TN, FP, FN = calculate_metrics(M, ref_mask, TP, TN, FP, FN)\n",
    "\n",
    "    # cv2.imshow('operation', M)\n",
    "    # cv2.waitKey(3)\n",
    "\n",
    "P = TP / (TP + FP)\n",
    "R = TP / (TP + FN)\n",
    "F1 = 2 * P * R / (P + R)\n",
    "print(f'{np.median.__name__} precision: ', P, 'Recall: ', R, 'F1: ', F1)"
   ]
  },
  {
   "cell_type": "code",
   "execution_count": 12,
   "metadata": {},
   "outputs": [
    {
     "name": "stdout",
     "output_type": "stream",
     "text": [
      "mean precision:  0.9189015401462929 Recall:  0.9756194269462274 F1:  0.946411477718685\n"
     ]
    }
   ],
   "source": [
    "TP, TN, FP, FN = 0, 0, 0, 0\n",
    "\n",
    "BG = cv2.imread(f'{PATH}/input/in%06d.jpg' % roi_start, cv2.IMREAD_GRAYSCALE).astype('float64')\n",
    "alfa = 0.01\n",
    "\n",
    "for i in range(roi_start + 1, roi_end, 1):\n",
    "    img = cv2.imread(f'{PATH}/input/in%06d.jpg' % i)\n",
    "    IG = cv2.cvtColor(img, cv2.COLOR_BGR2GRAY).astype('float64')\n",
    "\n",
    "    I_diff = cv2.absdiff(IG, BG).astype('uint8')\n",
    "\n",
    "    B = binarization(I_diff, threshold=20)\n",
    "    M = morphological_operations(B)\n",
    "\n",
    "    ref_mask = cv2.imread(f'{PATH}/groundtruth/gt%06d.png' % i, cv2.IMREAD_GRAYSCALE)\n",
    "\n",
    "    BG = np.where(M==0, IG * alfa + ( 1 - alfa ) * BG, BG)\n",
    "\n",
    "    TP, TN, FP, FN = calculate_metrics(M, ref_mask, TP, TN, FP, FN)\n",
    "\n",
    "    # cv2.imshow('operation', M)\n",
    "    # cv2.waitKey(3)\n",
    "\n",
    "P = TP / (TP + FP)\n",
    "R = TP / (TP + FN)\n",
    "F1 = 2 * P * R / (P + R)\n",
    "print(f'{np.mean.__name__} precision: ', P, 'Recall: ', R, 'F1: ', F1)"
   ]
  },
  {
   "cell_type": "markdown",
   "metadata": {},
   "source": [
    "### OpenCV – GMM/MOG"
   ]
  },
  {
   "cell_type": "code",
   "execution_count": 13,
   "metadata": {},
   "outputs": [
    {
     "name": "stdout",
     "output_type": "stream",
     "text": [
      "MOG precision:  0.7622707930367505 Recall:  0.8811663203460622 F1:  0.8174177695487023\n"
     ]
    }
   ],
   "source": [
    "TP, TN, FP, FN = 0, 0, 0, 0\n",
    "\n",
    "fgbg = cv2.createBackgroundSubtractorMOG2(history=500, varThreshold=30, detectShadows=False)\n",
    "\n",
    "for i in range(roi_start + 1, roi_end, 1):\n",
    "    img = cv2.imread(f'{PATH}/input/in%06d.jpg' % i)\n",
    "    IG = cv2.cvtColor(img, cv2.COLOR_BGR2GRAY)\n",
    "\n",
    "    fgmask = fgbg.apply(IG, learningRate=0.01)\n",
    "\n",
    "\n",
    "    ref_mask = cv2.imread(f'{PATH}/groundtruth/gt%06d.png' % i, cv2.IMREAD_GRAYSCALE)\n",
    "\n",
    "\n",
    "    TP, TN, FP, FN = calculate_metrics(fgmask, ref_mask, TP, TN, FP, FN)\n",
    "\n",
    "    # cv2.imshow('operation', fgmask)\n",
    "    # cv2.waitKey(3)\n",
    "\n",
    "P = TP / (TP + FP)\n",
    "R = TP / (TP + FN)\n",
    "F1 = 2 * P * R / (P + R)\n",
    "print('MOG precision: ', P, 'Recall: ', R, 'F1: ', F1)"
   ]
  },
  {
   "cell_type": "markdown",
   "metadata": {},
   "source": [
    "### OpenCV – KNN"
   ]
  },
  {
   "cell_type": "code",
   "execution_count": 14,
   "metadata": {},
   "outputs": [
    {
     "name": "stdout",
     "output_type": "stream",
     "text": [
      "mean precision:  0.23086038399533068 Recall:  0.974011048471966 F1:  0.37325237964264874\n"
     ]
    }
   ],
   "source": [
    "TP, TN, FP, FN = 0, 0, 0, 0\n",
    "\n",
    "fgbg = cv2.createBackgroundSubtractorKNN(history=500, dist2Threshold=30, detectShadows=False)\n",
    "\n",
    "for i in range(roi_start + 1, roi_end, 1):\n",
    "    img = cv2.imread(f'{PATH}/input/in%06d.jpg' % i)\n",
    "    IG = cv2.cvtColor(img, cv2.COLOR_BGR2GRAY)\n",
    "\n",
    "    fgmask = fgbg.apply(IG, learningRate=0.01)\n",
    "\n",
    "\n",
    "    ref_mask = cv2.imread(f'{PATH}/groundtruth/gt%06d.png' % i, cv2.IMREAD_GRAYSCALE)\n",
    "\n",
    "\n",
    "    TP, TN, FP, FN = calculate_metrics(fgmask, ref_mask, TP, TN, FP, FN)\n",
    "\n",
    "    # cv2.imshow('frame', fgmask)\n",
    "    # cv2.waitKey(3)\n",
    "\n",
    "P = TP / (TP + FP)\n",
    "R = TP / (TP + FN)\n",
    "F1 = 2 * P * R / (P + R)\n",
    "print(f'{np.mean.__name__} precision: ', P, 'Recall: ', R, 'F1: ', F1)"
   ]
  }
 ],
 "metadata": {
  "kernelspec": {
   "display_name": "aoc",
   "language": "python",
   "name": "python3"
  },
  "language_info": {
   "codemirror_mode": {
    "name": "ipython",
    "version": 3
   },
   "file_extension": ".py",
   "mimetype": "text/x-python",
   "name": "python",
   "nbconvert_exporter": "python",
   "pygments_lexer": "ipython3",
   "version": "3.11.5"
  }
 },
 "nbformat": 4,
 "nbformat_minor": 2
}
