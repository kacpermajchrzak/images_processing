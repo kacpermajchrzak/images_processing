{
 "cells": [
  {
   "cell_type": "code",
   "execution_count": 1,
   "metadata": {},
   "outputs": [],
   "source": [
    "import cv2\n",
    "import numpy as np"
   ]
  },
  {
   "cell_type": "code",
   "execution_count": 2,
   "metadata": {},
   "outputs": [],
   "source": [
    "PATH = 'pedestrian'"
   ]
  },
  {
   "cell_type": "code",
   "execution_count": 3,
   "metadata": {},
   "outputs": [],
   "source": [
    "f = open(f'{PATH}/temporalROI.txt','r') \n",
    "line = f.readline()\n",
    "roi_start , roi_end = line.split() \n",
    "roi_start = int(roi_start) \n",
    "roi_end = int(roi_end)\n",
    "\n",
    "I_start = cv2.imread(f'{PATH}/input/in%06d.jpg' % roi_start)\n",
    "HEIGHT, WIDTH, _ = I_start.shape"
   ]
  },
  {
   "cell_type": "code",
   "execution_count": 4,
   "metadata": {},
   "outputs": [],
   "source": [
    "def vis_flow(u, v, YX, name):\n",
    "    magnitude, angle = cv2.cartToPolar(u, v)\n",
    "    hsv_image = np.zeros((YX[0], YX[1], 3), dtype=np.uint8)\n",
    "    hsv_image[..., 0] = angle * 90 / np.pi\n",
    "    hsv_image[..., 1] = cv2.normalize(magnitude, None, 0, 255, cv2.NORM_MINMAX)\n",
    "    hsv_image[..., 2] = 255\n",
    "    img = cv2.cvtColor(hsv_image, cv2.COLOR_HSV2RGB)\n",
    "\n",
    "    cv2.imshow(\"optical flow\", img)\n",
    "    cv2.waitKey(3)"
   ]
  },
  {
   "cell_type": "markdown",
   "metadata": {},
   "source": [
    "## Wyznaczanie przypływu optycznego za pomocą metody Farnebacka"
   ]
  },
  {
   "cell_type": "code",
   "execution_count": 5,
   "metadata": {},
   "outputs": [],
   "source": [
    "img = cv2.imread(f'{PATH}/input/in%06d.jpg' % roi_start)\n",
    "prev = cv2.cvtColor(img, cv2.COLOR_BGR2GRAY)\n",
    "for i in range(roi_start + 1, roi_end, 1):\n",
    "    img = cv2.imread(f'{PATH}/input/in%06d.jpg' % i)\n",
    "    next = cv2.cvtColor(img, cv2.COLOR_BGR2GRAY)\n",
    "    flow_instance = cv2.FarnebackOpticalFlow_create()\n",
    "    flow = flow_instance.calc(prev, next, None)\n",
    "    u, v = flow[..., 0], flow[..., 1]\n",
    "    u, v = flow[..., 0], flow[..., 1]\n",
    "    prev = next\n",
    "    vis_flow(u, v, (HEIGHT, WIDTH), 'Optical Flow Farneback')"
   ]
  },
  {
   "cell_type": "markdown",
   "metadata": {},
   "source": [
    "## Detekcja kierunku ruchu i klasyfikacja obiektów z wykorzystaniem przepływu optycznego"
   ]
  },
  {
   "cell_type": "code",
   "execution_count": 6,
   "metadata": {},
   "outputs": [],
   "source": [
    "def indexation(I, stats, mean_magnitude, std_magnitude, mean_angle, std_angle):\n",
    "    \n",
    "    I_VIS = I\n",
    "    if (stats.shape [0] > 1):\n",
    "        tab = stats [1: ,4]\n",
    "        for i in range(len(tab)):\n",
    "            pi = i + 1\n",
    "            area = stats[pi, 2] * stats[pi, 3]\n",
    "\n",
    "            if area > 1000:\n",
    "                cv2.rectangle(I_VIS ,(stats[pi ,0],stats[pi ,1]) ,(stats[pi ,0]+ stats[pi ,2], stats[pi,1]+ stats[pi ,3]) ,(255,0,0) ,2)\n",
    "                cv2.putText(I_VIS ,f'{mean_magnitude[pi]:.2f}',( stats[pi ,0],stats[pi ,1]),cv2.FONT_HERSHEY_SIMPLEX ,0.5 ,(255 ,0 ,0))\n",
    "                cv2.putText(I_VIS ,f'{std_magnitude[pi]:.2f}',(stats[pi ,0], stats[pi,1] + (stats[pi,1] + stats[pi ,3])//4),cv2.FONT_HERSHEY_SIMPLEX ,0.5 ,(255 ,0 ,0))\n",
    "                cv2.putText(I_VIS ,f'{mean_angle[pi]:.2f}',( stats[pi ,0], stats[pi,1] + (stats[pi,1] + stats[pi ,3])//2),cv2.FONT_HERSHEY_SIMPLEX ,0.5 ,(255 ,0 ,0))\n",
    "                cv2.putText(I_VIS ,f'{std_angle[pi]:.2f}',( stats[pi ,0], stats[pi ,1] + stats[pi, 3]),cv2.FONT_HERSHEY_SIMPLEX ,0.5 ,(255 ,0 ,0))\n",
    "\n",
    "    return I_VIS"
   ]
  },
  {
   "cell_type": "code",
   "execution_count": 7,
   "metadata": {},
   "outputs": [],
   "source": [
    "def filtration(img):\n",
    "    kernel = np.ones((3,3),np.uint8)\n",
    "    M = cv2.medianBlur(img, 3)\n",
    "    M = cv2.erode(M, kernel, iterations=1)\n",
    "    M = cv2.dilate(M, kernel, iterations=3)\n",
    "    return M"
   ]
  },
  {
   "cell_type": "code",
   "execution_count": 8,
   "metadata": {},
   "outputs": [],
   "source": [
    "from statistics import mean, stdev\n",
    "\n",
    "fgbg = cv2.createBackgroundSubtractorMOG2(history=500, varThreshold=30, detectShadows=False)\n",
    "prev_frame = cv2.imread(f'{PATH}/input/in%06d.jpg' % roi_start, cv2.IMREAD_GRAYSCALE)\n",
    "\n",
    "for i in range(roi_start + 1, 472, 1):\n",
    "    frame = cv2.imread(f'{PATH}/input/in%06d.jpg' % i)\n",
    "    gray_frame = cv2.cvtColor(frame, cv2.COLOR_BGR2GRAY)\n",
    "\n",
    "    fgmask = fgbg.apply(gray_frame, learningRate=0.01)\n",
    "\n",
    "    fgmask = filtration(fgmask)\n",
    "\n",
    "    ret, labels, stats, centroids = cv2.connectedComponentsWithStats(fgmask)\n",
    "\n",
    "    magnitudes = [[]for _ in range(ret)]\n",
    "    angles = [[] for _ in range(ret)]\n",
    "    if ret > 0:\n",
    "        flow = cv2.calcOpticalFlowFarneback(prev_frame, gray_frame, None, 0.5, 3, 15, 3, 5, 1.2, 0)\n",
    "        magnitude, angle = cv2.cartToPolar(flow[..., 0], flow[..., 1])\n",
    "\n",
    "        for y in range(0, labels.shape[0]):\n",
    "            for x in range(0, labels.shape[1]):\n",
    "                \n",
    "                if labels[y, x] > 0:\n",
    "                    if magnitude[y, x] > 1:\n",
    "                        angles[labels[y, x]].append(angle[y,x])\n",
    "                        magnitudes[labels[y, x]].append(magnitude[y, x])\n",
    "        \n",
    "        mean_magnitude = []\n",
    "        std_dev_magnitude = []\n",
    "        mean_angle = []\n",
    "        std_dev_angle = []\n",
    "\n",
    "        for magn in magnitudes:\n",
    "            if len(magn) > 1:\n",
    "                mean_magn = mean(magn)\n",
    "                mean_magnitude.append(mean_magn)\n",
    "                try:\n",
    "                    std_dev_magnitude.append(stdev(magn, mean_magn))\n",
    "                except AssertionError:\n",
    "                    std_dev_magnitude.append(0)\n",
    "            else:\n",
    "                mean_magnitude.append(0)\n",
    "                std_dev_magnitude.append(0)\n",
    "        for ang in angles:\n",
    "            if len(ang) > 1:\n",
    "                mean_ang = mean(ang)\n",
    "                mean_angle.append(mean_ang)\n",
    "                try:\n",
    "                    std_dev_angle.append(stdev(ang, mean_ang))\n",
    "                except AssertionError:\n",
    "                    std_dev_angle.append(0)\n",
    "            else:\n",
    "                mean_angle.append(0)\n",
    "                std_dev_angle.append(0)\n",
    "\n",
    "    prev_frame = gray_frame.copy()\n",
    "    img  = indexation(frame, stats, mean_magnitude, std_dev_magnitude, mean_angle, std_dev_angle)\n",
    "    cv2.imshow(\"indeksacja\", img)\n",
    "    cv2.imshow(\"maska\", fgmask)\n",
    "    cv2.waitKey(3)"
   ]
  }
 ],
 "metadata": {
  "kernelspec": {
   "display_name": "obrazy",
   "language": "python",
   "name": "python3"
  },
  "language_info": {
   "codemirror_mode": {
    "name": "ipython",
    "version": 3
   },
   "file_extension": ".py",
   "mimetype": "text/x-python",
   "name": "python",
   "nbconvert_exporter": "python",
   "pygments_lexer": "ipython3",
   "version": "3.13.2"
  }
 },
 "nbformat": 4,
 "nbformat_minor": 2
}
